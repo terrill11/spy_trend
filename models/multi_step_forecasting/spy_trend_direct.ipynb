{
 "cells": [
  {
   "cell_type": "markdown",
   "metadata": {},
   "source": [
    "For this analysis I will do a Direct Multi-step forecast for the next 15/30 days.\n",
    "\n",
    "I will test a variety of models that will run for each Nth day to find out what is the optimal model. There will be no parameter tuning."
   ]
  },
  {
   "cell_type": "code",
   "execution_count": 1,
   "metadata": {},
   "outputs": [],
   "source": [
    "import pyodbc\n",
    "import sqlalchemy\n",
    "import pandas as pd\n",
    "import numpy as np\n",
    "import json\n",
    "from datetime import datetime as dt\n",
    "from datetime import timedelta\n",
    "from matplotlib import pyplot as plt\n",
    "from pylab import rcParams\n",
    "%matplotlib inline"
   ]
  },
  {
   "cell_type": "code",
   "execution_count": 2,
   "metadata": {},
   "outputs": [],
   "source": [
    "# server connection\n",
    "\n",
    "with open(f'/Users/terrill/Documents/work/stuff/spy_trend/sql_server_info_equities.txt', 'r') as f:\n",
    "    line = f.readline().split(',')\n",
    "name, user, password = line[0], line[3], line[4]\n",
    "\n",
    "sqlalchemy.create_engine(f'mssql+pyodbc://{user}:{password}@{name}')\n",
    "%load_ext sql\n",
    "%sql mssql+pyodbc://$user:$password@$name\n",
    "%config SqlMagic.displaycon = False"
   ]
  },
  {
   "cell_type": "markdown",
   "metadata": {},
   "source": [
    "<h5>Cleaning up Yahoo data</h5>"
   ]
  },
  {
   "cell_type": "code",
   "execution_count": 3,
   "metadata": {},
   "outputs": [],
   "source": [
    "def clean_yahoo_df(df, ticker):\n",
    "    df.drop(['HighPrice','LowPrice','OpenPrice'], axis=1, inplace=True)\n",
    "    df = df.astype({'ClosePrice': 'float'})\n",
    "    df['ClosePrice'] = df['ClosePrice'].round(2)\n",
    "    #df['Volume'] = df['Volume'].astype('int32')\n",
    "    df.rename(columns={'Volume': f'{ticker}_Volume', 'ClosePrice': ticker}, inplace=True)\n",
    "    df.set_index('Date', inplace=True)\n",
    "    \n",
    "    return df"
   ]
  },
  {
   "cell_type": "code",
   "execution_count": 4,
   "metadata": {},
   "outputs": [],
   "source": [
    "%%capture\n",
    "\n",
    "main_df = %sql select * from equities.dbo.spy order by date\n",
    "\n",
    "main_df = clean_yahoo_df(main_df.DataFrame(), 'SPY')"
   ]
  },
  {
   "cell_type": "code",
   "execution_count": 5,
   "metadata": {},
   "outputs": [
    {
     "data": {
      "text/html": [
       "<div>\n",
       "<style scoped>\n",
       "    .dataframe tbody tr th:only-of-type {\n",
       "        vertical-align: middle;\n",
       "    }\n",
       "\n",
       "    .dataframe tbody tr th {\n",
       "        vertical-align: top;\n",
       "    }\n",
       "\n",
       "    .dataframe thead th {\n",
       "        text-align: right;\n",
       "    }\n",
       "</style>\n",
       "<table border=\"1\" class=\"dataframe\">\n",
       "  <thead>\n",
       "    <tr style=\"text-align: right;\">\n",
       "      <th></th>\n",
       "      <th>SPY</th>\n",
       "      <th>SPY_Volume</th>\n",
       "    </tr>\n",
       "    <tr>\n",
       "      <th>Date</th>\n",
       "      <th></th>\n",
       "      <th></th>\n",
       "    </tr>\n",
       "  </thead>\n",
       "  <tbody>\n",
       "    <tr>\n",
       "      <th>2020-06-26</th>\n",
       "      <td>300.05</td>\n",
       "      <td>127961000</td>\n",
       "    </tr>\n",
       "    <tr>\n",
       "      <th>2020-06-29</th>\n",
       "      <td>304.46</td>\n",
       "      <td>79773300</td>\n",
       "    </tr>\n",
       "    <tr>\n",
       "      <th>2020-06-30</th>\n",
       "      <td>308.36</td>\n",
       "      <td>113394800</td>\n",
       "    </tr>\n",
       "    <tr>\n",
       "      <th>2020-07-01</th>\n",
       "      <td>310.52</td>\n",
       "      <td>72396500</td>\n",
       "    </tr>\n",
       "    <tr>\n",
       "      <th>2020-07-02</th>\n",
       "      <td>312.23</td>\n",
       "      <td>69344200</td>\n",
       "    </tr>\n",
       "  </tbody>\n",
       "</table>\n",
       "</div>"
      ],
      "text/plain": [
       "               SPY  SPY_Volume\n",
       "Date                          \n",
       "2020-06-26  300.05   127961000\n",
       "2020-06-29  304.46    79773300\n",
       "2020-06-30  308.36   113394800\n",
       "2020-07-01  310.52    72396500\n",
       "2020-07-02  312.23    69344200"
      ]
     },
     "execution_count": 5,
     "metadata": {},
     "output_type": "execute_result"
    }
   ],
   "source": [
    "main_df.tail()"
   ]
  },
  {
   "cell_type": "markdown",
   "metadata": {},
   "source": [
    "A few economic indicators are updated weekly, monthly, etc. Some of those days are on the weekend when equity markets are not opened. For that, we will have to outer join those dataframes with the main dataframes, forward fill the NaN data, and remove weekend dates. Below is the list of SPY dates that will be used later."
   ]
  },
  {
   "cell_type": "code",
   "execution_count": 6,
   "metadata": {},
   "outputs": [],
   "source": [
    "spy_dates = list(main_df.index)"
   ]
  },
  {
   "cell_type": "markdown",
   "metadata": {},
   "source": [
    "Below are all tickers pulled from Yahoo and saved locally. I will need to find a way to automate the refresh daily but for now will use the data I have to optimize the model.\n",
    "\n",
    "Also note, for the individual sector ETFs, I will use Vanguard ETFs instead of SPDR even if SPY is an SPDR ETFs. Even though most of the SPDR ETFs are larger and more liquid I find the Vanguard ETFs more accurately reflects their respective idustries as the portfolios include small and mid caps. SPDR ETFs are heavily concentrated in stocks already included in SPY."
   ]
  },
  {
   "cell_type": "code",
   "execution_count": 7,
   "metadata": {},
   "outputs": [],
   "source": [
    "etfs = ['QQQ', 'IWM', 'TLT', 'IEF', 'VNQ', 'VGT', 'VHT', 'VFH', 'VCR', 'VIS', 'VDC', 'VPU', 'VDE', 'VAW', 'VOX']\n",
    "\n",
    "futures = ['CL=F', 'GC=F', 'SI=F', 'ZF=F', 'ZN=F']"
   ]
  },
  {
   "cell_type": "code",
   "execution_count": 8,
   "metadata": {},
   "outputs": [],
   "source": [
    "%%capture\n",
    "\n",
    "for ticker in etfs:\n",
    "    query = %sql SELECT * FROM Equities.dbo.$ticker ORDER BY date DESC\n",
    "    temp_df = clean_yahoo_df(query.DataFrame(), ticker)\n",
    "    main_df = main_df.join(temp_df, how='left')\n",
    "\n",
    "for ticker in futures:\n",
    "    new_ticker = ticker.replace('=','_')\n",
    "    query = %sql SELECT * FROM Futures.dbo.$new_ticker ORDER BY date DESC\n",
    "    temp_df = clean_yahoo_df(query.DataFrame(), ticker)\n",
    "    main_df = main_df.join(temp_df, how='left')"
   ]
  },
  {
   "cell_type": "code",
   "execution_count": 9,
   "metadata": {},
   "outputs": [
    {
     "data": {
      "text/html": [
       "<div>\n",
       "<style scoped>\n",
       "    .dataframe tbody tr th:only-of-type {\n",
       "        vertical-align: middle;\n",
       "    }\n",
       "\n",
       "    .dataframe tbody tr th {\n",
       "        vertical-align: top;\n",
       "    }\n",
       "\n",
       "    .dataframe thead th {\n",
       "        text-align: right;\n",
       "    }\n",
       "</style>\n",
       "<table border=\"1\" class=\"dataframe\">\n",
       "  <thead>\n",
       "    <tr style=\"text-align: right;\">\n",
       "      <th></th>\n",
       "      <th>SPY</th>\n",
       "      <th>SPY_Volume</th>\n",
       "      <th>QQQ</th>\n",
       "      <th>QQQ_Volume</th>\n",
       "      <th>IWM</th>\n",
       "      <th>IWM_Volume</th>\n",
       "      <th>TLT</th>\n",
       "      <th>TLT_Volume</th>\n",
       "      <th>IEF</th>\n",
       "      <th>IEF_Volume</th>\n",
       "      <th>...</th>\n",
       "      <th>CL=F</th>\n",
       "      <th>CL=F_Volume</th>\n",
       "      <th>GC=F</th>\n",
       "      <th>GC=F_Volume</th>\n",
       "      <th>SI=F</th>\n",
       "      <th>SI=F_Volume</th>\n",
       "      <th>ZF=F</th>\n",
       "      <th>ZF=F_Volume</th>\n",
       "      <th>ZN=F</th>\n",
       "      <th>ZN=F_Volume</th>\n",
       "    </tr>\n",
       "    <tr>\n",
       "      <th>Date</th>\n",
       "      <th></th>\n",
       "      <th></th>\n",
       "      <th></th>\n",
       "      <th></th>\n",
       "      <th></th>\n",
       "      <th></th>\n",
       "      <th></th>\n",
       "      <th></th>\n",
       "      <th></th>\n",
       "      <th></th>\n",
       "      <th></th>\n",
       "      <th></th>\n",
       "      <th></th>\n",
       "      <th></th>\n",
       "      <th></th>\n",
       "      <th></th>\n",
       "      <th></th>\n",
       "      <th></th>\n",
       "      <th></th>\n",
       "      <th></th>\n",
       "      <th></th>\n",
       "    </tr>\n",
       "  </thead>\n",
       "  <tbody>\n",
       "    <tr>\n",
       "      <th>2020-06-30</th>\n",
       "      <td>308.36</td>\n",
       "      <td>113394800</td>\n",
       "      <td>247.60</td>\n",
       "      <td>38909200.0</td>\n",
       "      <td>143.18</td>\n",
       "      <td>32865900.0</td>\n",
       "      <td>163.74</td>\n",
       "      <td>14841700.0</td>\n",
       "      <td>121.76</td>\n",
       "      <td>4126700.0</td>\n",
       "      <td>...</td>\n",
       "      <td>39.66</td>\n",
       "      <td>143721086.0</td>\n",
       "      <td>1800.4</td>\n",
       "      <td>87426446.0</td>\n",
       "      <td>18.60</td>\n",
       "      <td>27498487.0</td>\n",
       "      <td>125.74</td>\n",
       "      <td>222311932.0</td>\n",
       "      <td>139.16</td>\n",
       "      <td>436197367.0</td>\n",
       "    </tr>\n",
       "    <tr>\n",
       "      <th>2020-07-01</th>\n",
       "      <td>310.52</td>\n",
       "      <td>72396500</td>\n",
       "      <td>250.49</td>\n",
       "      <td>34689200.0</td>\n",
       "      <td>141.82</td>\n",
       "      <td>26457500.0</td>\n",
       "      <td>163.42</td>\n",
       "      <td>13181000.0</td>\n",
       "      <td>121.57</td>\n",
       "      <td>8416500.0</td>\n",
       "      <td>...</td>\n",
       "      <td>39.61</td>\n",
       "      <td>171886332.0</td>\n",
       "      <td>1778.3</td>\n",
       "      <td>128714431.0</td>\n",
       "      <td>18.26</td>\n",
       "      <td>40526778.0</td>\n",
       "      <td>125.60</td>\n",
       "      <td>247177437.0</td>\n",
       "      <td>138.94</td>\n",
       "      <td>524020934.0</td>\n",
       "    </tr>\n",
       "    <tr>\n",
       "      <th>2020-07-02</th>\n",
       "      <td>312.23</td>\n",
       "      <td>69344200</td>\n",
       "      <td>252.19</td>\n",
       "      <td>31956500.0</td>\n",
       "      <td>142.40</td>\n",
       "      <td>24022400.0</td>\n",
       "      <td>163.59</td>\n",
       "      <td>7599800.0</td>\n",
       "      <td>121.72</td>\n",
       "      <td>3054100.0</td>\n",
       "      <td>...</td>\n",
       "      <td>40.32</td>\n",
       "      <td>130102415.0</td>\n",
       "      <td>1787.1</td>\n",
       "      <td>89155862.0</td>\n",
       "      <td>18.25</td>\n",
       "      <td>21540289.0</td>\n",
       "      <td>125.73</td>\n",
       "      <td>175910173.0</td>\n",
       "      <td>139.16</td>\n",
       "      <td>405103512.0</td>\n",
       "    </tr>\n",
       "  </tbody>\n",
       "</table>\n",
       "<p>3 rows × 42 columns</p>\n",
       "</div>"
      ],
      "text/plain": [
       "               SPY  SPY_Volume     QQQ  QQQ_Volume     IWM  IWM_Volume  \\\n",
       "Date                                                                     \n",
       "2020-06-30  308.36   113394800  247.60  38909200.0  143.18  32865900.0   \n",
       "2020-07-01  310.52    72396500  250.49  34689200.0  141.82  26457500.0   \n",
       "2020-07-02  312.23    69344200  252.19  31956500.0  142.40  24022400.0   \n",
       "\n",
       "               TLT  TLT_Volume     IEF  IEF_Volume  ...   CL=F  CL=F_Volume  \\\n",
       "Date                                                ...                       \n",
       "2020-06-30  163.74  14841700.0  121.76   4126700.0  ...  39.66  143721086.0   \n",
       "2020-07-01  163.42  13181000.0  121.57   8416500.0  ...  39.61  171886332.0   \n",
       "2020-07-02  163.59   7599800.0  121.72   3054100.0  ...  40.32  130102415.0   \n",
       "\n",
       "              GC=F  GC=F_Volume   SI=F  SI=F_Volume    ZF=F  ZF=F_Volume  \\\n",
       "Date                                                                       \n",
       "2020-06-30  1800.4   87426446.0  18.60   27498487.0  125.74  222311932.0   \n",
       "2020-07-01  1778.3  128714431.0  18.26   40526778.0  125.60  247177437.0   \n",
       "2020-07-02  1787.1   89155862.0  18.25   21540289.0  125.73  175910173.0   \n",
       "\n",
       "              ZN=F  ZN=F_Volume  \n",
       "Date                             \n",
       "2020-06-30  139.16  436197367.0  \n",
       "2020-07-01  138.94  524020934.0  \n",
       "2020-07-02  139.16  405103512.0  \n",
       "\n",
       "[3 rows x 42 columns]"
      ]
     },
     "execution_count": 9,
     "metadata": {},
     "output_type": "execute_result"
    }
   ],
   "source": [
    "main_df.tail(3)"
   ]
  },
  {
   "cell_type": "markdown",
   "metadata": {},
   "source": [
    "<h5>Other charts (Treasure bond yields, Libor rate, Mortgage rate, M1 & M2 money supply, VIX, DIX)</h5>\n",
    "<br>\n",
    "Data pulled from various sources."
   ]
  },
  {
   "cell_type": "code",
   "execution_count": 10,
   "metadata": {},
   "outputs": [],
   "source": [
    "# maybe include VVIX in the future?\n",
    "# Notes:\n",
    "# 30 year fixed mortgage rate is updated monthly (need may numbers)\n",
    "# money supply data is updated weekly\n",
    "\n",
    "economics_tickers = ['CPIAUCSL', 'DFF', 'DGS10', 'DGS30', 'M1', 'M2', 'MORTGAGE15US', 'MORTGAGE30US',\n",
    "                     'T10YIE', 'USD1MTD156N', 'USD6MTD156N', 'USD12MD156N']\n",
    "economic_names = ['CPI', 'Fed_Funds_Rate', '10_yr_Treasury', '30_yr_Treasury', 'M1_Supply',\n",
    "                  'M2_Supply', '15_yr_Mortgage', '30_yr_Mortgage', '10_yr_Inflation',\n",
    "                  '1m_Libor', '3m_Libor', '12m_Libor']\n",
    "  #10_yr_Treasury, 30_yr_Treasury, 15_yr_Mortgage, 30_yr_Mortgage, 10_yr_Inflation, 1m_Libor, 3m_Libor, 12m_Libor\n",
    "forex = ['USD_JPY', 'USD_EUR', 'USD_CHF', 'USD_PLN', 'USD_CNY', 'USD_HUF', 'USD_RUB', 'USD_CAD',\n",
    "         'USD_RON', 'USD_INR', 'USD_GBP', 'USD_AUD', 'USD_HKD', 'USD_SEK', 'USD_SGD', 'XAU_USD',\n",
    "         'DXY']\n",
    "\n",
    "vix = 'I_VIX'\n",
    "dix = 'DIX'"
   ]
  },
  {
   "cell_type": "code",
   "execution_count": 11,
   "metadata": {},
   "outputs": [],
   "source": [
    "%%capture\n",
    "\n",
    "# economics data\n",
    "for ticker, name in zip(economics_tickers, economic_names):\n",
    "    query = %sql SELECT * FROM Economics.dbo.$ticker WHERE Date >= '1993-01-01' ORDER BY date\n",
    "    temp_df = query.DataFrame()\n",
    "    temp_df.set_index('Date', inplace=True)\n",
    "    temp_df.rename(columns={temp_df.columns[0]: name}, inplace=True)\n",
    "    if ticker in ['M1', 'M2']:\n",
    "        temp_df *= 1000000000\n",
    "    temp_df = temp_df.astype({name: 'float'})\n",
    "    main_df = main_df.join(temp_df, how='outer')\n",
    "\n",
    "# forex\n",
    "for ticker in forex:\n",
    "    query = %sql SELECT * FROM Forex.dbo.$ticker WHERE Date >= '1993-01-01' ORDER BY date\n",
    "    temp_df = query.DataFrame()\n",
    "    temp_df.drop(['OpenPrice', 'HighPrice', 'LowPrice'], axis=1, inplace=True)\n",
    "    temp_df = temp_df.astype({'ClosePrice': 'float'})\n",
    "    temp_df['ClosePrice'] = temp_df['ClosePrice'].round(2)\n",
    "    temp_df.set_index('Date', inplace=True)\n",
    "    temp_df.rename(columns={'ClosePrice': ticker}, inplace=True)\n",
    "    main_df = main_df.join(temp_df, how='left')\n",
    "\n",
    "# vix\n",
    "query = %sql SELECT * FROM Equities.dbo.I_VIX WHERE Date >= '1993-01-01' ORDER BY date\n",
    "temp_df = query.DataFrame()\n",
    "temp_df.drop(['HighPrice', 'LowPrice', 'OpenPrice'], axis=1, inplace=True)\n",
    "temp_df = temp_df.astype({'ClosePrice': 'float'})\n",
    "temp_df['ClosePrice'] = temp_df['ClosePrice'].round(2)\n",
    "temp_df.set_index('Date', inplace=True)\n",
    "temp_df.rename(columns={'ClosePrice': 'VIX'}, inplace=True)\n",
    "main_df = main_df.join(temp_df, how='left')\n",
    "\n",
    "# # dix (leaving this out for now)\n",
    "# query = %sql SELECT * FROM Equities.dbo.I_DIX ORDER BY date\n",
    "# temp_df = query.DataFrame()\n",
    "# temp_df.drop(['SPX'], axis=1, inplace=True)\n",
    "# temp_df = temp_df.astype({'DIX': 'float', 'GEX': 'float'})\n",
    "# temp_df.set_index('Date', inplace=True)\n",
    "# main_df = main_df.join(temp_df, how='left')"
   ]
  },
  {
   "cell_type": "code",
   "execution_count": 12,
   "metadata": {},
   "outputs": [
    {
     "data": {
      "text/html": [
       "<div>\n",
       "<style scoped>\n",
       "    .dataframe tbody tr th:only-of-type {\n",
       "        vertical-align: middle;\n",
       "    }\n",
       "\n",
       "    .dataframe tbody tr th {\n",
       "        vertical-align: top;\n",
       "    }\n",
       "\n",
       "    .dataframe thead th {\n",
       "        text-align: right;\n",
       "    }\n",
       "</style>\n",
       "<table border=\"1\" class=\"dataframe\">\n",
       "  <thead>\n",
       "    <tr style=\"text-align: right;\">\n",
       "      <th></th>\n",
       "      <th>SPY</th>\n",
       "      <th>SPY_Volume</th>\n",
       "      <th>QQQ</th>\n",
       "      <th>QQQ_Volume</th>\n",
       "      <th>IWM</th>\n",
       "      <th>IWM_Volume</th>\n",
       "      <th>TLT</th>\n",
       "      <th>TLT_Volume</th>\n",
       "      <th>IEF</th>\n",
       "      <th>IEF_Volume</th>\n",
       "      <th>...</th>\n",
       "      <th>USD_RON</th>\n",
       "      <th>USD_INR</th>\n",
       "      <th>USD_GBP</th>\n",
       "      <th>USD_AUD</th>\n",
       "      <th>USD_HKD</th>\n",
       "      <th>USD_SEK</th>\n",
       "      <th>USD_SGD</th>\n",
       "      <th>XAU_USD</th>\n",
       "      <th>DXY</th>\n",
       "      <th>VIX</th>\n",
       "    </tr>\n",
       "    <tr>\n",
       "      <th>Date</th>\n",
       "      <th></th>\n",
       "      <th></th>\n",
       "      <th></th>\n",
       "      <th></th>\n",
       "      <th></th>\n",
       "      <th></th>\n",
       "      <th></th>\n",
       "      <th></th>\n",
       "      <th></th>\n",
       "      <th></th>\n",
       "      <th></th>\n",
       "      <th></th>\n",
       "      <th></th>\n",
       "      <th></th>\n",
       "      <th></th>\n",
       "      <th></th>\n",
       "      <th></th>\n",
       "      <th></th>\n",
       "      <th></th>\n",
       "      <th></th>\n",
       "      <th></th>\n",
       "    </tr>\n",
       "  </thead>\n",
       "  <tbody>\n",
       "    <tr>\n",
       "      <th>2020-06-28</th>\n",
       "      <td>NaN</td>\n",
       "      <td>NaN</td>\n",
       "      <td>NaN</td>\n",
       "      <td>NaN</td>\n",
       "      <td>NaN</td>\n",
       "      <td>NaN</td>\n",
       "      <td>NaN</td>\n",
       "      <td>NaN</td>\n",
       "      <td>NaN</td>\n",
       "      <td>NaN</td>\n",
       "      <td>...</td>\n",
       "      <td>NaN</td>\n",
       "      <td>NaN</td>\n",
       "      <td>NaN</td>\n",
       "      <td>NaN</td>\n",
       "      <td>NaN</td>\n",
       "      <td>NaN</td>\n",
       "      <td>NaN</td>\n",
       "      <td>NaN</td>\n",
       "      <td>NaN</td>\n",
       "      <td>NaN</td>\n",
       "    </tr>\n",
       "    <tr>\n",
       "      <th>2020-06-29</th>\n",
       "      <td>304.46</td>\n",
       "      <td>79773300.0</td>\n",
       "      <td>242.84</td>\n",
       "      <td>34377800.0</td>\n",
       "      <td>141.14</td>\n",
       "      <td>33935200.0</td>\n",
       "      <td>164.54</td>\n",
       "      <td>7274400.0</td>\n",
       "      <td>121.98</td>\n",
       "      <td>28632400.0</td>\n",
       "      <td>...</td>\n",
       "      <td>4.31</td>\n",
       "      <td>75.51</td>\n",
       "      <td>0.81</td>\n",
       "      <td>1.46</td>\n",
       "      <td>7.75</td>\n",
       "      <td>9.33</td>\n",
       "      <td>1.39</td>\n",
       "      <td>1772.28</td>\n",
       "      <td>97.54</td>\n",
       "      <td>31.78</td>\n",
       "    </tr>\n",
       "    <tr>\n",
       "      <th>2020-06-30</th>\n",
       "      <td>308.36</td>\n",
       "      <td>113394800.0</td>\n",
       "      <td>247.60</td>\n",
       "      <td>38909200.0</td>\n",
       "      <td>143.18</td>\n",
       "      <td>32865900.0</td>\n",
       "      <td>163.74</td>\n",
       "      <td>14841700.0</td>\n",
       "      <td>121.76</td>\n",
       "      <td>4126700.0</td>\n",
       "      <td>...</td>\n",
       "      <td>4.31</td>\n",
       "      <td>75.54</td>\n",
       "      <td>0.81</td>\n",
       "      <td>1.45</td>\n",
       "      <td>7.75</td>\n",
       "      <td>9.32</td>\n",
       "      <td>1.39</td>\n",
       "      <td>1781.67</td>\n",
       "      <td>97.39</td>\n",
       "      <td>30.43</td>\n",
       "    </tr>\n",
       "    <tr>\n",
       "      <th>2020-07-01</th>\n",
       "      <td>310.52</td>\n",
       "      <td>72396500.0</td>\n",
       "      <td>250.49</td>\n",
       "      <td>34689200.0</td>\n",
       "      <td>141.82</td>\n",
       "      <td>26457500.0</td>\n",
       "      <td>163.42</td>\n",
       "      <td>13181000.0</td>\n",
       "      <td>121.57</td>\n",
       "      <td>8416500.0</td>\n",
       "      <td>...</td>\n",
       "      <td>4.31</td>\n",
       "      <td>75.49</td>\n",
       "      <td>0.80</td>\n",
       "      <td>1.45</td>\n",
       "      <td>7.75</td>\n",
       "      <td>9.31</td>\n",
       "      <td>1.39</td>\n",
       "      <td>1770.31</td>\n",
       "      <td>97.20</td>\n",
       "      <td>28.62</td>\n",
       "    </tr>\n",
       "    <tr>\n",
       "      <th>2020-07-02</th>\n",
       "      <td>312.23</td>\n",
       "      <td>69344200.0</td>\n",
       "      <td>252.19</td>\n",
       "      <td>31956500.0</td>\n",
       "      <td>142.40</td>\n",
       "      <td>24022400.0</td>\n",
       "      <td>163.59</td>\n",
       "      <td>7599800.0</td>\n",
       "      <td>121.72</td>\n",
       "      <td>3054100.0</td>\n",
       "      <td>...</td>\n",
       "      <td>4.30</td>\n",
       "      <td>74.75</td>\n",
       "      <td>0.80</td>\n",
       "      <td>1.44</td>\n",
       "      <td>7.75</td>\n",
       "      <td>9.32</td>\n",
       "      <td>1.39</td>\n",
       "      <td>1776.14</td>\n",
       "      <td>97.32</td>\n",
       "      <td>27.68</td>\n",
       "    </tr>\n",
       "  </tbody>\n",
       "</table>\n",
       "<p>5 rows × 72 columns</p>\n",
       "</div>"
      ],
      "text/plain": [
       "               SPY   SPY_Volume     QQQ  QQQ_Volume     IWM  IWM_Volume  \\\n",
       "Date                                                                      \n",
       "2020-06-28     NaN          NaN     NaN         NaN     NaN         NaN   \n",
       "2020-06-29  304.46   79773300.0  242.84  34377800.0  141.14  33935200.0   \n",
       "2020-06-30  308.36  113394800.0  247.60  38909200.0  143.18  32865900.0   \n",
       "2020-07-01  310.52   72396500.0  250.49  34689200.0  141.82  26457500.0   \n",
       "2020-07-02  312.23   69344200.0  252.19  31956500.0  142.40  24022400.0   \n",
       "\n",
       "               TLT  TLT_Volume     IEF  IEF_Volume  ...  USD_RON  USD_INR  \\\n",
       "Date                                                ...                     \n",
       "2020-06-28     NaN         NaN     NaN         NaN  ...      NaN      NaN   \n",
       "2020-06-29  164.54   7274400.0  121.98  28632400.0  ...     4.31    75.51   \n",
       "2020-06-30  163.74  14841700.0  121.76   4126700.0  ...     4.31    75.54   \n",
       "2020-07-01  163.42  13181000.0  121.57   8416500.0  ...     4.31    75.49   \n",
       "2020-07-02  163.59   7599800.0  121.72   3054100.0  ...     4.30    74.75   \n",
       "\n",
       "            USD_GBP  USD_AUD  USD_HKD  USD_SEK  USD_SGD  XAU_USD    DXY    VIX  \n",
       "Date                                                                            \n",
       "2020-06-28      NaN      NaN      NaN      NaN      NaN      NaN    NaN    NaN  \n",
       "2020-06-29     0.81     1.46     7.75     9.33     1.39  1772.28  97.54  31.78  \n",
       "2020-06-30     0.81     1.45     7.75     9.32     1.39  1781.67  97.39  30.43  \n",
       "2020-07-01     0.80     1.45     7.75     9.31     1.39  1770.31  97.20  28.62  \n",
       "2020-07-02     0.80     1.44     7.75     9.32     1.39  1776.14  97.32  27.68  \n",
       "\n",
       "[5 rows x 72 columns]"
      ]
     },
     "execution_count": 12,
     "metadata": {},
     "output_type": "execute_result"
    }
   ],
   "source": [
    "main_df.iloc[:,:].tail()"
   ]
  },
  {
   "cell_type": "markdown",
   "metadata": {},
   "source": [
    "Forward fill any data that is updated weekly, monthly, etc. Remove all dates when market is closed (weekends, holidays)."
   ]
  },
  {
   "cell_type": "code",
   "execution_count": 13,
   "metadata": {},
   "outputs": [],
   "source": [
    "main_df.ffill(inplace=True)"
   ]
  },
  {
   "cell_type": "code",
   "execution_count": 14,
   "metadata": {},
   "outputs": [
    {
     "data": {
      "text/html": [
       "<div>\n",
       "<style scoped>\n",
       "    .dataframe tbody tr th:only-of-type {\n",
       "        vertical-align: middle;\n",
       "    }\n",
       "\n",
       "    .dataframe tbody tr th {\n",
       "        vertical-align: top;\n",
       "    }\n",
       "\n",
       "    .dataframe thead th {\n",
       "        text-align: right;\n",
       "    }\n",
       "</style>\n",
       "<table border=\"1\" class=\"dataframe\">\n",
       "  <thead>\n",
       "    <tr style=\"text-align: right;\">\n",
       "      <th></th>\n",
       "      <th>SPY</th>\n",
       "      <th>SPY_Volume</th>\n",
       "      <th>QQQ</th>\n",
       "      <th>QQQ_Volume</th>\n",
       "      <th>IWM</th>\n",
       "      <th>IWM_Volume</th>\n",
       "      <th>TLT</th>\n",
       "      <th>TLT_Volume</th>\n",
       "      <th>IEF</th>\n",
       "      <th>IEF_Volume</th>\n",
       "      <th>...</th>\n",
       "      <th>USD_RON</th>\n",
       "      <th>USD_INR</th>\n",
       "      <th>USD_GBP</th>\n",
       "      <th>USD_AUD</th>\n",
       "      <th>USD_HKD</th>\n",
       "      <th>USD_SEK</th>\n",
       "      <th>USD_SGD</th>\n",
       "      <th>XAU_USD</th>\n",
       "      <th>DXY</th>\n",
       "      <th>VIX</th>\n",
       "    </tr>\n",
       "    <tr>\n",
       "      <th>Date</th>\n",
       "      <th></th>\n",
       "      <th></th>\n",
       "      <th></th>\n",
       "      <th></th>\n",
       "      <th></th>\n",
       "      <th></th>\n",
       "      <th></th>\n",
       "      <th></th>\n",
       "      <th></th>\n",
       "      <th></th>\n",
       "      <th></th>\n",
       "      <th></th>\n",
       "      <th></th>\n",
       "      <th></th>\n",
       "      <th></th>\n",
       "      <th></th>\n",
       "      <th></th>\n",
       "      <th></th>\n",
       "      <th></th>\n",
       "      <th></th>\n",
       "      <th></th>\n",
       "    </tr>\n",
       "  </thead>\n",
       "  <tbody>\n",
       "    <tr>\n",
       "      <th>1993-01-29</th>\n",
       "      <td>26.18</td>\n",
       "      <td>1003200.0</td>\n",
       "      <td>NaN</td>\n",
       "      <td>NaN</td>\n",
       "      <td>NaN</td>\n",
       "      <td>NaN</td>\n",
       "      <td>NaN</td>\n",
       "      <td>NaN</td>\n",
       "      <td>NaN</td>\n",
       "      <td>NaN</td>\n",
       "      <td>...</td>\n",
       "      <td>NaN</td>\n",
       "      <td>31.38</td>\n",
       "      <td>0.67</td>\n",
       "      <td>1.47</td>\n",
       "      <td>7.73</td>\n",
       "      <td>7.30</td>\n",
       "      <td>1.65</td>\n",
       "      <td>329.85</td>\n",
       "      <td>92.46</td>\n",
       "      <td>12.42</td>\n",
       "    </tr>\n",
       "    <tr>\n",
       "      <th>1993-02-01</th>\n",
       "      <td>26.37</td>\n",
       "      <td>480500.0</td>\n",
       "      <td>NaN</td>\n",
       "      <td>NaN</td>\n",
       "      <td>NaN</td>\n",
       "      <td>NaN</td>\n",
       "      <td>NaN</td>\n",
       "      <td>NaN</td>\n",
       "      <td>NaN</td>\n",
       "      <td>NaN</td>\n",
       "      <td>...</td>\n",
       "      <td>NaN</td>\n",
       "      <td>31.42</td>\n",
       "      <td>0.69</td>\n",
       "      <td>1.48</td>\n",
       "      <td>7.74</td>\n",
       "      <td>7.46</td>\n",
       "      <td>1.65</td>\n",
       "      <td>329.85</td>\n",
       "      <td>93.56</td>\n",
       "      <td>12.33</td>\n",
       "    </tr>\n",
       "    <tr>\n",
       "      <th>1993-02-02</th>\n",
       "      <td>26.43</td>\n",
       "      <td>201300.0</td>\n",
       "      <td>NaN</td>\n",
       "      <td>NaN</td>\n",
       "      <td>NaN</td>\n",
       "      <td>NaN</td>\n",
       "      <td>NaN</td>\n",
       "      <td>NaN</td>\n",
       "      <td>NaN</td>\n",
       "      <td>NaN</td>\n",
       "      <td>...</td>\n",
       "      <td>NaN</td>\n",
       "      <td>31.62</td>\n",
       "      <td>0.69</td>\n",
       "      <td>1.47</td>\n",
       "      <td>7.74</td>\n",
       "      <td>7.44</td>\n",
       "      <td>1.65</td>\n",
       "      <td>329.65</td>\n",
       "      <td>93.92</td>\n",
       "      <td>12.25</td>\n",
       "    </tr>\n",
       "  </tbody>\n",
       "</table>\n",
       "<p>3 rows × 72 columns</p>\n",
       "</div>"
      ],
      "text/plain": [
       "              SPY  SPY_Volume  QQQ  QQQ_Volume  IWM  IWM_Volume  TLT  \\\n",
       "Date                                                                   \n",
       "1993-01-29  26.18   1003200.0  NaN         NaN  NaN         NaN  NaN   \n",
       "1993-02-01  26.37    480500.0  NaN         NaN  NaN         NaN  NaN   \n",
       "1993-02-02  26.43    201300.0  NaN         NaN  NaN         NaN  NaN   \n",
       "\n",
       "            TLT_Volume  IEF  IEF_Volume  ...  USD_RON  USD_INR  USD_GBP  \\\n",
       "Date                                     ...                              \n",
       "1993-01-29         NaN  NaN         NaN  ...      NaN    31.38     0.67   \n",
       "1993-02-01         NaN  NaN         NaN  ...      NaN    31.42     0.69   \n",
       "1993-02-02         NaN  NaN         NaN  ...      NaN    31.62     0.69   \n",
       "\n",
       "            USD_AUD  USD_HKD  USD_SEK  USD_SGD  XAU_USD    DXY    VIX  \n",
       "Date                                                                   \n",
       "1993-01-29     1.47     7.73     7.30     1.65   329.85  92.46  12.42  \n",
       "1993-02-01     1.48     7.74     7.46     1.65   329.85  93.56  12.33  \n",
       "1993-02-02     1.47     7.74     7.44     1.65   329.65  93.92  12.25  \n",
       "\n",
       "[3 rows x 72 columns]"
      ]
     },
     "execution_count": 14,
     "metadata": {},
     "output_type": "execute_result"
    }
   ],
   "source": [
    "main_df = main_df[main_df.index.isin(spy_dates)]\n",
    "main_df.head(3)"
   ]
  },
  {
   "cell_type": "code",
   "execution_count": null,
   "metadata": {},
   "outputs": [],
   "source": []
  },
  {
   "cell_type": "markdown",
   "metadata": {},
   "source": [
    "<h5>Last Value Multi-Step Method</h5>\n",
    "For the direct multi-step time forcasting we will be predicting the target price for the next 15 days. To do this we will be creating columns for each day, shifiting the adjusted closing price value up by (t-n) days.\n",
    "\n",
    "<h5>Rolling Mean and Standard Deviation</h5>\n",
    "To be used later to inverse scaled predictions. We will be adding a rolling mean and standard deviation to each of the forward looking days. (probably a more efficient method exists -- all means and std could be shifted up as well)\n",
    "\n",
    "Note: The goal is to project prices 30 days in advanced but we will start with 15 for now."
   ]
  },
  {
   "cell_type": "code",
   "execution_count": 15,
   "metadata": {},
   "outputs": [],
   "source": [
    "# number of days to project in the future\n",
    "days_to_predict = 15\n",
    "\n",
    "for i in range(1, days_to_predict+1):\n",
    "    main_df[f'target_SPY_{i}d'] = main_df['SPY'].shift(-i)\n",
    "    main_df[f'SPY_mean_{i}d'] = main_df[f'target_SPY_{i}d'].rolling(window=5, min_periods=1).mean()\n",
    "    main_df[f'SPY_std_{i}d'] = main_df[f'target_SPY_{i}d'].rolling(window=5, min_periods=1).std()\n",
    "    \n",
    "main_df.drop(main_df.tail(15).index, inplace=True)\n",
    "main_df.drop('SPY', axis=1, inplace=True)"
   ]
  },
  {
   "cell_type": "code",
   "execution_count": 16,
   "metadata": {},
   "outputs": [
    {
     "data": {
      "text/html": [
       "<div>\n",
       "<style scoped>\n",
       "    .dataframe tbody tr th:only-of-type {\n",
       "        vertical-align: middle;\n",
       "    }\n",
       "\n",
       "    .dataframe tbody tr th {\n",
       "        vertical-align: top;\n",
       "    }\n",
       "\n",
       "    .dataframe thead th {\n",
       "        text-align: right;\n",
       "    }\n",
       "</style>\n",
       "<table border=\"1\" class=\"dataframe\">\n",
       "  <thead>\n",
       "    <tr style=\"text-align: right;\">\n",
       "      <th></th>\n",
       "      <th>SPY_Volume</th>\n",
       "      <th>QQQ</th>\n",
       "      <th>QQQ_Volume</th>\n",
       "      <th>IWM</th>\n",
       "      <th>IWM_Volume</th>\n",
       "      <th>TLT</th>\n",
       "      <th>TLT_Volume</th>\n",
       "      <th>IEF</th>\n",
       "      <th>IEF_Volume</th>\n",
       "      <th>VNQ</th>\n",
       "      <th>...</th>\n",
       "      <th>SPY_std_12d</th>\n",
       "      <th>target_SPY_13d</th>\n",
       "      <th>SPY_mean_13d</th>\n",
       "      <th>SPY_std_13d</th>\n",
       "      <th>target_SPY_14d</th>\n",
       "      <th>SPY_mean_14d</th>\n",
       "      <th>SPY_std_14d</th>\n",
       "      <th>target_SPY_15d</th>\n",
       "      <th>SPY_mean_15d</th>\n",
       "      <th>SPY_std_15d</th>\n",
       "    </tr>\n",
       "    <tr>\n",
       "      <th>Date</th>\n",
       "      <th></th>\n",
       "      <th></th>\n",
       "      <th></th>\n",
       "      <th></th>\n",
       "      <th></th>\n",
       "      <th></th>\n",
       "      <th></th>\n",
       "      <th></th>\n",
       "      <th></th>\n",
       "      <th></th>\n",
       "      <th></th>\n",
       "      <th></th>\n",
       "      <th></th>\n",
       "      <th></th>\n",
       "      <th></th>\n",
       "      <th></th>\n",
       "      <th></th>\n",
       "      <th></th>\n",
       "      <th></th>\n",
       "      <th></th>\n",
       "      <th></th>\n",
       "    </tr>\n",
       "  </thead>\n",
       "  <tbody>\n",
       "    <tr>\n",
       "      <th>1993-01-29</th>\n",
       "      <td>1003200.0</td>\n",
       "      <td>NaN</td>\n",
       "      <td>NaN</td>\n",
       "      <td>NaN</td>\n",
       "      <td>NaN</td>\n",
       "      <td>NaN</td>\n",
       "      <td>NaN</td>\n",
       "      <td>NaN</td>\n",
       "      <td>NaN</td>\n",
       "      <td>NaN</td>\n",
       "      <td>...</td>\n",
       "      <td>NaN</td>\n",
       "      <td>25.87</td>\n",
       "      <td>25.870</td>\n",
       "      <td>NaN</td>\n",
       "      <td>25.96</td>\n",
       "      <td>25.960000</td>\n",
       "      <td>NaN</td>\n",
       "      <td>26.05</td>\n",
       "      <td>26.050000</td>\n",
       "      <td>NaN</td>\n",
       "    </tr>\n",
       "    <tr>\n",
       "      <th>1993-02-01</th>\n",
       "      <td>480500.0</td>\n",
       "      <td>NaN</td>\n",
       "      <td>NaN</td>\n",
       "      <td>NaN</td>\n",
       "      <td>NaN</td>\n",
       "      <td>NaN</td>\n",
       "      <td>NaN</td>\n",
       "      <td>NaN</td>\n",
       "      <td>NaN</td>\n",
       "      <td>NaN</td>\n",
       "      <td>...</td>\n",
       "      <td>0.014142</td>\n",
       "      <td>25.96</td>\n",
       "      <td>25.915</td>\n",
       "      <td>0.06364</td>\n",
       "      <td>26.05</td>\n",
       "      <td>26.005000</td>\n",
       "      <td>0.063640</td>\n",
       "      <td>26.04</td>\n",
       "      <td>26.045000</td>\n",
       "      <td>0.007071</td>\n",
       "    </tr>\n",
       "    <tr>\n",
       "      <th>1993-02-02</th>\n",
       "      <td>201300.0</td>\n",
       "      <td>NaN</td>\n",
       "      <td>NaN</td>\n",
       "      <td>NaN</td>\n",
       "      <td>NaN</td>\n",
       "      <td>NaN</td>\n",
       "      <td>NaN</td>\n",
       "      <td>NaN</td>\n",
       "      <td>NaN</td>\n",
       "      <td>NaN</td>\n",
       "      <td>...</td>\n",
       "      <td>0.047258</td>\n",
       "      <td>26.05</td>\n",
       "      <td>25.960</td>\n",
       "      <td>0.09000</td>\n",
       "      <td>26.04</td>\n",
       "      <td>26.016667</td>\n",
       "      <td>0.049329</td>\n",
       "      <td>26.37</td>\n",
       "      <td>26.153333</td>\n",
       "      <td>0.187705</td>\n",
       "    </tr>\n",
       "  </tbody>\n",
       "</table>\n",
       "<p>3 rows × 116 columns</p>\n",
       "</div>"
      ],
      "text/plain": [
       "            SPY_Volume  QQQ  QQQ_Volume  IWM  IWM_Volume  TLT  TLT_Volume  \\\n",
       "Date                                                                        \n",
       "1993-01-29   1003200.0  NaN         NaN  NaN         NaN  NaN         NaN   \n",
       "1993-02-01    480500.0  NaN         NaN  NaN         NaN  NaN         NaN   \n",
       "1993-02-02    201300.0  NaN         NaN  NaN         NaN  NaN         NaN   \n",
       "\n",
       "            IEF  IEF_Volume  VNQ  ...  SPY_std_12d  target_SPY_13d  \\\n",
       "Date                              ...                                \n",
       "1993-01-29  NaN         NaN  NaN  ...          NaN           25.87   \n",
       "1993-02-01  NaN         NaN  NaN  ...     0.014142           25.96   \n",
       "1993-02-02  NaN         NaN  NaN  ...     0.047258           26.05   \n",
       "\n",
       "            SPY_mean_13d  SPY_std_13d  target_SPY_14d  SPY_mean_14d  \\\n",
       "Date                                                                  \n",
       "1993-01-29        25.870          NaN           25.96     25.960000   \n",
       "1993-02-01        25.915      0.06364           26.05     26.005000   \n",
       "1993-02-02        25.960      0.09000           26.04     26.016667   \n",
       "\n",
       "            SPY_std_14d  target_SPY_15d  SPY_mean_15d  SPY_std_15d  \n",
       "Date                                                                \n",
       "1993-01-29          NaN           26.05     26.050000          NaN  \n",
       "1993-02-01     0.063640           26.04     26.045000     0.007071  \n",
       "1993-02-02     0.049329           26.37     26.153333     0.187705  \n",
       "\n",
       "[3 rows x 116 columns]"
      ]
     },
     "execution_count": 16,
     "metadata": {},
     "output_type": "execute_result"
    }
   ],
   "source": [
    "main_df.head(3)"
   ]
  },
  {
   "cell_type": "markdown",
   "metadata": {},
   "source": [
    "<h5>Handling Null Values</h5>\n",
    "<br>\n",
    "I have decided to drop any rows with NaN. There are a few tickers that was created way after the SPY etf was created. Will experiment with removing a few of those tickers for the analysis.\n",
    "<br>"
   ]
  },
  {
   "cell_type": "code",
   "execution_count": 17,
   "metadata": {},
   "outputs": [
    {
     "data": {
      "text/plain": [
       "datetime.date(2004, 9, 29)"
      ]
     },
     "execution_count": 17,
     "metadata": {},
     "output_type": "execute_result"
    }
   ],
   "source": [
    "# the first row without null values\n",
    "\n",
    "main_df[~main_df.isnull().any(axis=1)].index[0]"
   ]
  },
  {
   "cell_type": "code",
   "execution_count": 18,
   "metadata": {},
   "outputs": [
    {
     "data": {
      "text/plain": [
       "VOX           2939\n",
       "VIS_Volume    2939\n",
       "VNQ_Volume    2939\n",
       "VNQ           2939\n",
       "VIS           2939\n",
       "dtype: int64"
      ]
     },
     "execution_count": 18,
     "metadata": {},
     "output_type": "execute_result"
    }
   ],
   "source": [
    "main_df.isna().sum().sort_values(ascending=False).head(5)"
   ]
  },
  {
   "cell_type": "code",
   "execution_count": 19,
   "metadata": {},
   "outputs": [
    {
     "data": {
      "text/html": [
       "<div>\n",
       "<style scoped>\n",
       "    .dataframe tbody tr th:only-of-type {\n",
       "        vertical-align: middle;\n",
       "    }\n",
       "\n",
       "    .dataframe tbody tr th {\n",
       "        vertical-align: top;\n",
       "    }\n",
       "\n",
       "    .dataframe thead th {\n",
       "        text-align: right;\n",
       "    }\n",
       "</style>\n",
       "<table border=\"1\" class=\"dataframe\">\n",
       "  <thead>\n",
       "    <tr style=\"text-align: right;\">\n",
       "      <th></th>\n",
       "      <th>SPY_Volume</th>\n",
       "      <th>QQQ</th>\n",
       "      <th>QQQ_Volume</th>\n",
       "      <th>IWM</th>\n",
       "      <th>IWM_Volume</th>\n",
       "      <th>TLT</th>\n",
       "      <th>TLT_Volume</th>\n",
       "      <th>IEF</th>\n",
       "      <th>IEF_Volume</th>\n",
       "      <th>VNQ</th>\n",
       "      <th>...</th>\n",
       "      <th>SPY_std_12d</th>\n",
       "      <th>target_SPY_13d</th>\n",
       "      <th>SPY_mean_13d</th>\n",
       "      <th>SPY_std_13d</th>\n",
       "      <th>target_SPY_14d</th>\n",
       "      <th>SPY_mean_14d</th>\n",
       "      <th>SPY_std_14d</th>\n",
       "      <th>target_SPY_15d</th>\n",
       "      <th>SPY_mean_15d</th>\n",
       "      <th>SPY_std_15d</th>\n",
       "    </tr>\n",
       "    <tr>\n",
       "      <th>Date</th>\n",
       "      <th></th>\n",
       "      <th></th>\n",
       "      <th></th>\n",
       "      <th></th>\n",
       "      <th></th>\n",
       "      <th></th>\n",
       "      <th></th>\n",
       "      <th></th>\n",
       "      <th></th>\n",
       "      <th></th>\n",
       "      <th></th>\n",
       "      <th></th>\n",
       "      <th></th>\n",
       "      <th></th>\n",
       "      <th></th>\n",
       "      <th></th>\n",
       "      <th></th>\n",
       "      <th></th>\n",
       "      <th></th>\n",
       "      <th></th>\n",
       "      <th></th>\n",
       "    </tr>\n",
       "  </thead>\n",
       "  <tbody>\n",
       "    <tr>\n",
       "      <th>2004-09-29</th>\n",
       "      <td>33325700.0</td>\n",
       "      <td>30.60</td>\n",
       "      <td>95096200.0</td>\n",
       "      <td>45.90</td>\n",
       "      <td>16073200.0</td>\n",
       "      <td>52.10</td>\n",
       "      <td>1970700.0</td>\n",
       "      <td>55.54</td>\n",
       "      <td>226100.0</td>\n",
       "      <td>24.51</td>\n",
       "      <td>...</td>\n",
       "      <td>0.688636</td>\n",
       "      <td>81.20</td>\n",
       "      <td>81.094</td>\n",
       "      <td>0.497675</td>\n",
       "      <td>80.52</td>\n",
       "      <td>80.834</td>\n",
       "      <td>0.337313</td>\n",
       "      <td>80.36</td>\n",
       "      <td>80.686</td>\n",
       "      <td>0.353384</td>\n",
       "    </tr>\n",
       "    <tr>\n",
       "      <th>2004-09-30</th>\n",
       "      <td>43536700.0</td>\n",
       "      <td>30.65</td>\n",
       "      <td>74514600.0</td>\n",
       "      <td>45.90</td>\n",
       "      <td>17295400.0</td>\n",
       "      <td>51.90</td>\n",
       "      <td>1945700.0</td>\n",
       "      <td>55.48</td>\n",
       "      <td>175000.0</td>\n",
       "      <td>24.70</td>\n",
       "      <td>...</td>\n",
       "      <td>0.497675</td>\n",
       "      <td>80.52</td>\n",
       "      <td>80.834</td>\n",
       "      <td>0.337313</td>\n",
       "      <td>80.36</td>\n",
       "      <td>80.686</td>\n",
       "      <td>0.353384</td>\n",
       "      <td>80.88</td>\n",
       "      <td>80.772</td>\n",
       "      <td>0.333347</td>\n",
       "    </tr>\n",
       "    <tr>\n",
       "      <th>2004-10-01</th>\n",
       "      <td>62824300.0</td>\n",
       "      <td>31.49</td>\n",
       "      <td>118252700.0</td>\n",
       "      <td>47.05</td>\n",
       "      <td>16410000.0</td>\n",
       "      <td>51.64</td>\n",
       "      <td>1999300.0</td>\n",
       "      <td>55.26</td>\n",
       "      <td>270200.0</td>\n",
       "      <td>25.16</td>\n",
       "      <td>...</td>\n",
       "      <td>0.337313</td>\n",
       "      <td>80.36</td>\n",
       "      <td>80.686</td>\n",
       "      <td>0.353384</td>\n",
       "      <td>80.88</td>\n",
       "      <td>80.772</td>\n",
       "      <td>0.333347</td>\n",
       "      <td>79.98</td>\n",
       "      <td>80.588</td>\n",
       "      <td>0.470659</td>\n",
       "    </tr>\n",
       "    <tr>\n",
       "      <th>2004-10-04</th>\n",
       "      <td>33082400.0</td>\n",
       "      <td>31.67</td>\n",
       "      <td>108032600.0</td>\n",
       "      <td>47.32</td>\n",
       "      <td>13371200.0</td>\n",
       "      <td>51.72</td>\n",
       "      <td>1106200.0</td>\n",
       "      <td>55.28</td>\n",
       "      <td>278100.0</td>\n",
       "      <td>25.27</td>\n",
       "      <td>...</td>\n",
       "      <td>0.353384</td>\n",
       "      <td>80.88</td>\n",
       "      <td>80.772</td>\n",
       "      <td>0.333347</td>\n",
       "      <td>79.98</td>\n",
       "      <td>80.588</td>\n",
       "      <td>0.470659</td>\n",
       "      <td>79.88</td>\n",
       "      <td>80.324</td>\n",
       "      <td>0.407529</td>\n",
       "    </tr>\n",
       "    <tr>\n",
       "      <th>2004-10-05</th>\n",
       "      <td>36910600.0</td>\n",
       "      <td>31.72</td>\n",
       "      <td>89754400.0</td>\n",
       "      <td>47.27</td>\n",
       "      <td>10255200.0</td>\n",
       "      <td>51.72</td>\n",
       "      <td>501700.0</td>\n",
       "      <td>55.28</td>\n",
       "      <td>220000.0</td>\n",
       "      <td>25.26</td>\n",
       "      <td>...</td>\n",
       "      <td>0.333347</td>\n",
       "      <td>79.98</td>\n",
       "      <td>80.588</td>\n",
       "      <td>0.470659</td>\n",
       "      <td>79.88</td>\n",
       "      <td>80.324</td>\n",
       "      <td>0.407529</td>\n",
       "      <td>81.10</td>\n",
       "      <td>80.440</td>\n",
       "      <td>0.538702</td>\n",
       "    </tr>\n",
       "  </tbody>\n",
       "</table>\n",
       "<p>5 rows × 116 columns</p>\n",
       "</div>"
      ],
      "text/plain": [
       "            SPY_Volume    QQQ   QQQ_Volume    IWM  IWM_Volume    TLT  \\\n",
       "Date                                                                   \n",
       "2004-09-29  33325700.0  30.60   95096200.0  45.90  16073200.0  52.10   \n",
       "2004-09-30  43536700.0  30.65   74514600.0  45.90  17295400.0  51.90   \n",
       "2004-10-01  62824300.0  31.49  118252700.0  47.05  16410000.0  51.64   \n",
       "2004-10-04  33082400.0  31.67  108032600.0  47.32  13371200.0  51.72   \n",
       "2004-10-05  36910600.0  31.72   89754400.0  47.27  10255200.0  51.72   \n",
       "\n",
       "            TLT_Volume    IEF  IEF_Volume    VNQ  ...  SPY_std_12d  \\\n",
       "Date                                              ...                \n",
       "2004-09-29   1970700.0  55.54    226100.0  24.51  ...     0.688636   \n",
       "2004-09-30   1945700.0  55.48    175000.0  24.70  ...     0.497675   \n",
       "2004-10-01   1999300.0  55.26    270200.0  25.16  ...     0.337313   \n",
       "2004-10-04   1106200.0  55.28    278100.0  25.27  ...     0.353384   \n",
       "2004-10-05    501700.0  55.28    220000.0  25.26  ...     0.333347   \n",
       "\n",
       "            target_SPY_13d  SPY_mean_13d  SPY_std_13d  target_SPY_14d  \\\n",
       "Date                                                                    \n",
       "2004-09-29           81.20        81.094     0.497675           80.52   \n",
       "2004-09-30           80.52        80.834     0.337313           80.36   \n",
       "2004-10-01           80.36        80.686     0.353384           80.88   \n",
       "2004-10-04           80.88        80.772     0.333347           79.98   \n",
       "2004-10-05           79.98        80.588     0.470659           79.88   \n",
       "\n",
       "            SPY_mean_14d  SPY_std_14d  target_SPY_15d  SPY_mean_15d  \\\n",
       "Date                                                                  \n",
       "2004-09-29        80.834     0.337313           80.36        80.686   \n",
       "2004-09-30        80.686     0.353384           80.88        80.772   \n",
       "2004-10-01        80.772     0.333347           79.98        80.588   \n",
       "2004-10-04        80.588     0.470659           79.88        80.324   \n",
       "2004-10-05        80.324     0.407529           81.10        80.440   \n",
       "\n",
       "            SPY_std_15d  \n",
       "Date                     \n",
       "2004-09-29     0.353384  \n",
       "2004-09-30     0.333347  \n",
       "2004-10-01     0.470659  \n",
       "2004-10-04     0.407529  \n",
       "2004-10-05     0.538702  \n",
       "\n",
       "[5 rows x 116 columns]"
      ]
     },
     "execution_count": 19,
     "metadata": {},
     "output_type": "execute_result"
    }
   ],
   "source": [
    "main_df = main_df.dropna(axis=0)\n",
    "main_df.index = pd.to_datetime(main_df.index,format='%Y-%m-%d')\n",
    "main_df.head()"
   ]
  },
  {
   "cell_type": "markdown",
   "metadata": {},
   "source": [
    "<h5>Splitting data into train, validation, test sets</h5>"
   ]
  },
  {
   "cell_type": "code",
   "execution_count": 20,
   "metadata": {},
   "outputs": [],
   "source": [
    "# validation size\n",
    "valid_size = int(len(main_df) * 0.2)\n",
    "train_size = len(main_df) - valid_size\n",
    "\n",
    "train = main_df.iloc[:train_size - days_to_predict - 1].copy()\n",
    "valid = main_df.iloc[train_size - days_to_predict - 1:train_size + valid_size - days_to_predict - 1].copy()\n",
    "train_valid = main_df.iloc[:train_size + valid_size - days_to_predict - 1].copy()\n",
    "test = main_df.iloc[-days_to_predict - 1].copy()\n",
    "\n",
    "# set date ranges\n",
    "# train: 2004-09-29:2017-03-29\n",
    "# valid: 2017-03-30:2020-05-19\n",
    "# train_valid: 2004-09-29:2020-05-19\n",
    "# test: 2020-05-20\n",
    "# predictions: 2020-05-21:2020-06-11"
   ]
  },
  {
   "cell_type": "markdown",
   "metadata": {},
   "source": [
    "<h5>Normalizing Data</h5>"
   ]
  },
  {
   "cell_type": "code",
   "execution_count": 21,
   "metadata": {
    "scrolled": true
   },
   "outputs": [],
   "source": [
    "cols_to_normalize = ['SPY_Volume', 'QQQ', 'QQQ_Volume', 'IWM', 'IWM_Volume', 'TLT', 'TLT_Volume', 'IEF',\n",
    "                     'IEF_Volume', 'VNQ', 'VNQ_Volume', 'VGT', 'VGT_Volume', 'VHT', 'VHT_Volume', 'VFH',\n",
    "                     'VFH_Volume', 'VCR', 'VCR_Volume', 'VIS', 'VIS_Volume', 'VDC', 'VDC_Volume', 'VPU',\n",
    "                     'VPU_Volume', 'VDE', 'VDE_Volume', 'VAW', 'VAW_Volume', 'VOX', 'VOX_Volume', 'CL=F',\n",
    "                     'CL=F_Volume', 'GC=F', 'GC=F_Volume', 'SI=F', 'SI=F_Volume', 'ZF=F', 'ZF=F_Volume',\n",
    "                     'ZN=F', 'ZN=F_Volume', 'CPI', 'M1_Supply', 'M2_Supply', 'USD_JPY', 'USD_CHF', 'USD_PLN',\n",
    "                     'USD_CNY', 'USD_HUF', 'USD_RUB', 'USD_CAD', 'USD_RON', 'USD_INR', 'USD_AUD', 'USD_HKD',\n",
    "                     'USD_SEK', 'USD_SGD', 'XAU_USD', 'DXY', 'VIX', 'target_SPY_1d', 'target_SPY_2d',\n",
    "                     'target_SPY_3d', 'target_SPY_4d', 'target_SPY_5d', 'target_SPY_6d', 'target_SPY_7d',\n",
    "                     'target_SPY_8d', 'target_SPY_9d', 'target_SPY_10d', 'target_SPY_11d', 'target_SPY_12d',\n",
    "                     'target_SPY_13d', 'target_SPY_14d', 'target_SPY_15d']\n",
    "\n",
    "# cols_to_normalize = []\n",
    "# for i in main_df.columns:\n",
    "#     if main_df[i].max() >= 1 and ('mean' not in i and 'std' not in i):\n",
    "#         cols_to_normalize.append(i)\n",
    "# cols_to_normalize"
   ]
  },
  {
   "cell_type": "code",
   "execution_count": 22,
   "metadata": {},
   "outputs": [
    {
     "data": {
      "text/plain": [
       "(3147, 116)"
      ]
     },
     "execution_count": 22,
     "metadata": {},
     "output_type": "execute_result"
    }
   ],
   "source": [
    "from sklearn.preprocessing import StandardScaler\n",
    "\n",
    "# scaling train data\n",
    "scaler_train = StandardScaler()\n",
    "train_scaled = scaler_train.fit_transform(train[cols_to_normalize])\n",
    "train_scaled = pd.DataFrame(train_scaled, columns=cols_to_normalize, index=train.index)\n",
    "train_scaled = train_scaled.join(train.loc[:, ~train.columns.isin(cols_to_normalize)])\n",
    "train_scaled.shape"
   ]
  },
  {
   "cell_type": "code",
   "execution_count": 23,
   "metadata": {},
   "outputs": [
    {
     "data": {
      "text/plain": [
       "(3937, 116)"
      ]
     },
     "execution_count": 23,
     "metadata": {},
     "output_type": "execute_result"
    }
   ],
   "source": [
    "#scaling train_valid data\n",
    "scaler_train_valid = StandardScaler()\n",
    "train_valid_scaled = scaler_train_valid.fit_transform(train_valid[cols_to_normalize])\n",
    "train_valid_scaled = pd.DataFrame(train_valid_scaled, columns=cols_to_normalize, index=train_valid.index)\n",
    "train_valid_scaled = train_valid_scaled.join(train_valid.loc[:, ~train_valid.columns.isin(cols_to_normalize)])\n",
    "train_valid_scaled.shape"
   ]
  },
  {
   "cell_type": "code",
   "execution_count": 24,
   "metadata": {},
   "outputs": [
    {
     "data": {
      "text/plain": [
       "(790, 71)"
      ]
     },
     "execution_count": 24,
     "metadata": {},
     "output_type": "execute_result"
    }
   ],
   "source": [
    "# scaling valid data - separating target columns for another scaler object\n",
    "# need to remove any target columns as well as any mean/std calculated columns\n",
    "scaler_valid = StandardScaler()\n",
    "valid_scaled = scaler_valid.fit_transform(valid[cols_to_normalize].drop(valid.filter(regex='target').columns, axis=1))\n",
    "valid_scaled = pd.DataFrame(valid_scaled, columns=cols_to_normalize[:-15], index=valid.index)\n",
    "valid_scaled = valid_scaled.join(valid.loc[:, ~valid.columns.isin(cols_to_normalize)]\n",
    "                                         .drop(valid.filter(regex='mean').columns, axis=1)\n",
    "                                         .drop(valid.filter(regex='std').columns, axis=1))\n",
    "valid_scaled.shape"
   ]
  },
  {
   "cell_type": "code",
   "execution_count": 52,
   "metadata": {},
   "outputs": [],
   "source": [
    "# normalize = (test[cols_to_normalize[:-15]] - test['SPY_mean_1d']) / test['SPY_std_1d']\n",
    "# inverse = normalize * test['SPY_std_1d'] + test['SPY_mean_1d']"
   ]
  },
  {
   "cell_type": "markdown",
   "metadata": {},
   "source": [
    "Normalizing the test set will have to be done manually as there will only be one observation. Using StandardScaler() will turn all numbers to zero.\n",
    "\n",
    "Normalize the numbers by applying the below formula to the observations using the mean and standard deviation calculations according to the number of days to forecast. Above is an example.\n",
    "\n",
    "eg... application and inverse<br>\n",
    "z = (x - u) / s<br>\n",
    "x = z * s + u"
   ]
  },
  {
   "cell_type": "markdown",
   "metadata": {},
   "source": [
    "<h5>Splitting into X and y</h5>"
   ]
  },
  {
   "cell_type": "code",
   "execution_count": null,
   "metadata": {},
   "outputs": [],
   "source": []
  },
  {
   "cell_type": "code",
   "execution_count": null,
   "metadata": {},
   "outputs": [],
   "source": [
    "#pseudocode\n",
    "\n",
    "features = all columns except target_SPY_Xd, SPY_mean_xd, SPY_std_xd\n",
    "target = all target_SPY_Xd"
   ]
  },
  {
   "cell_type": "code",
   "execution_count": null,
   "metadata": {},
   "outputs": [],
   "source": []
  },
  {
   "cell_type": "code",
   "execution_count": 27,
   "metadata": {},
   "outputs": [],
   "source": [
    "features = [i for i in main_df.columns if i not in ['target_SPY_1d','SPY_mean','SPY_std']]\n",
    "target = 'target_SPY_1d'"
   ]
  },
  {
   "cell_type": "code",
   "execution_count": 28,
   "metadata": {},
   "outputs": [
    {
     "name": "stdout",
     "output_type": "stream",
     "text": [
      "Features\n",
      "X_train shape: (2381, 71)\n",
      "X_valid shape: (793, 71)\n",
      "X_train_valid shape: (3174, 71)\n",
      "X_test shape: (793, 71)\n",
      "\n",
      "Targets\n",
      "y_train shape: (2381,)\n",
      "y_valid shape: (793,)\n",
      "y_train_valid shape: (3174,)\n",
      "y_test shape: (793,)\n"
     ]
    }
   ],
   "source": [
    "# non-scaled data\n",
    "\n",
    "X_train = train[features]\n",
    "X_valid = valid[features]\n",
    "X_train_valid = train_valid[features]\n",
    "X_test = test[features]\n",
    "\n",
    "y_train = train[target]\n",
    "y_valid = valid[target]\n",
    "y_train_valid = train_valid[target]\n",
    "y_test = test[target]\n",
    "\n",
    "\n",
    "print('Features')\n",
    "print(f'X_train shape: {X_train.shape}')\n",
    "print(f'X_valid shape: {X_valid.shape}')\n",
    "print(f'X_train_valid shape: {X_train_valid.shape}')\n",
    "print(f'X_test shape: {X_test.shape}')\n",
    "\n",
    "print('\\nTargets')\n",
    "print(f'y_train shape: {y_train.shape}')\n",
    "print(f'y_valid shape: {y_valid.shape}')\n",
    "print(f'y_train_valid shape: {y_train_valid.shape}')\n",
    "print(f'y_test shape: {y_test.shape}')"
   ]
  },
  {
   "cell_type": "markdown",
   "metadata": {},
   "source": [
    "<h5>Model using XGBoost</h5>"
   ]
  },
  {
   "cell_type": "code",
   "execution_count": 29,
   "metadata": {},
   "outputs": [
    {
     "name": "stdout",
     "output_type": "stream",
     "text": [
      "X_train_scaled shape: (2381, 71)\n",
      "X_valid_scaled shape: (793, 71)\n",
      "X_train_valid_scaled shape: (3174, 71)\n",
      "X_test shape_scaled: (793, 71)\n"
     ]
    }
   ],
   "source": [
    "# scaled data\n",
    "\n",
    "X_train_scaled = train_scaled[features]\n",
    "X_valid_scaled = valid_scaled[features]\n",
    "X_train_valid_scaled = train_valid_scaled[features]\n",
    "X_test_scaled = test_scaled[features]\n",
    "\n",
    "y_train_scaled = train_scaled[target]\n",
    "y_train_valid_scaled = train_valid_scaled[target]\n",
    "\n",
    "print(f'X_train_scaled shape: {X_train_scaled.shape}')\n",
    "print(f'X_valid_scaled shape: {X_valid_scaled.shape}')\n",
    "print(f'X_train_valid_scaled shape: {X_train_valid_scaled.shape}')\n",
    "print(f'X_test shape_scaled: {X_test_scaled.shape}')"
   ]
  },
  {
   "cell_type": "code",
   "execution_count": 30,
   "metadata": {},
   "outputs": [],
   "source": [
    "# default parameter values\n",
    "n_estimators = 100\n",
    "max_depth = 3\n",
    "learning_rate = 0.1\n",
    "gamma = 0\n",
    "min_child_weight = 1\n",
    "subsample = 1\n",
    "colsample_bytree = 1\n",
    "reg_alpha = 0"
   ]
  },
  {
   "cell_type": "code",
   "execution_count": null,
   "metadata": {},
   "outputs": [],
   "source": []
  },
  {
   "cell_type": "code",
   "execution_count": null,
   "metadata": {},
   "outputs": [],
   "source": [
    "#pseudocode\n",
    "\n",
    "from sklearn.linear_model import LinearRegression\n",
    "from sklearn.linear_model import Lasso\n",
    "from sklearn.linear_model import Ridge\n",
    "from sklearn.linear_model import ElasticNet\n",
    "from sklearn.linear_model import HuberRegressor\n",
    "from sklearn.linear_model import Lars\n",
    "from sklearn.linear_model import LassoLars\n",
    "from sklearn.linear_model import PassiveAggressiveRegressor\n",
    "from sklearn.linear_model import RANSACRegressor\n",
    "from sklearn.linear_model import SGDRegressor\n",
    "from xgboost import XGBRegressor\n",
    "\n",
    "dict_of_models = {}\n",
    "\n",
    "models['lr'] = LinearRegression()\n",
    "models['lasso'] = Lasso()\n",
    "models['ridge'] = Ridge()\n",
    "models['en'] = ElasticNet()\n",
    "models['huber'] = HuberRegressor()\n",
    "models['lars'] = Lars()\n",
    "models['llars'] = LassoLars()\n",
    "models['pa'] = PassiveAggressiveRegressor(max_iter=1000, tol=1e-3)\n",
    "models['ranscac'] = RANSACRegressor()\n",
    "models['sgd'] = SGDRegressor(max_iter=1000, tol=1e-3)\n",
    "models['xgboost'] = XGBRegressor()"
   ]
  },
  {
   "cell_type": "code",
   "execution_count": null,
   "metadata": {},
   "outputs": [],
   "source": [
    "#pseudocode\n",
    "\n",
    "# results of each model of each day\n",
    "results = {}\n",
    "\n",
    "for i in days(1,15):\n",
    "    for name, model in models.items():\n",
    "        model.fit(X_train_scaled, y_train_scaled[ith day])\n",
    "        prediction = model.predict(X_train_scaled)\n",
    "        prediction = train_predict_scaled * train['SPY_std_ith_day'] + train['SPY_mean_ith_day']\n",
    "        \n",
    "        results[name][i] = prediction\n",
    "\n",
    "\n",
    "# plotting results\n",
    "for name in models.keys():\n",
    "    rmse_list_per_day = []\n",
    "    for i in days(1,15):\n",
    "        rmse_score = math.sqrt(y_train[ith_day], results[name][i])\n",
    "        rmse_list_per_day.append(rmse_score)\n",
    "        \n",
    "    plt.plot(rmse_list_per_day)"
   ]
  },
  {
   "cell_type": "code",
   "execution_count": null,
   "metadata": {},
   "outputs": [],
   "source": []
  },
  {
   "cell_type": "code",
   "execution_count": null,
   "metadata": {},
   "outputs": [],
   "source": []
  },
  {
   "cell_type": "code",
   "execution_count": 31,
   "metadata": {},
   "outputs": [
    {
     "data": {
      "text/plain": [
       "XGBRegressor(base_score=0.5, booster='gbtree', colsample_bylevel=1,\n",
       "             colsample_bynode=1, colsample_bytree=1, gamma=0, gpu_id=-1,\n",
       "             importance_type='gain', interaction_constraints='',\n",
       "             learning_rate=0.1, max_delta_step=0, max_depth=3,\n",
       "             min_child_weight=1, missing=nan, monotone_constraints='()',\n",
       "             n_estimators=100, n_jobs=0, num_parallel_tree=1, random_state=0,\n",
       "             reg_alpha=0, reg_lambda=1, scale_pos_weight=1, subsample=1,\n",
       "             tree_method='exact', validate_parameters=1, verbosity=None)"
      ]
     },
     "execution_count": 31,
     "metadata": {},
     "output_type": "execute_result"
    }
   ],
   "source": [
    "from xgboost import XGBRegressor\n",
    "from sklearn.metrics import mean_squared_error\n",
    "import math\n",
    "\n",
    "model = XGBRegressor(n_estimators = n_estimators,\n",
    "                     max_depth = max_depth,\n",
    "                     learning_rate = learning_rate,\n",
    "                     gamma = gamma,\n",
    "                     min_child_weight = min_child_weight,\n",
    "                     subsample = subsample,\n",
    "                     colsample_bytree = colsample_bytree,\n",
    "                     #colsample_by_level=colsample_by_level,\n",
    "                     random_state = 0)\n",
    "\n",
    "model.fit(X_train_scaled, y_train_scaled)"
   ]
  },
  {
   "cell_type": "markdown",
   "metadata": {},
   "source": [
    "<h5>Predicting Training Set</h5>"
   ]
  },
  {
   "cell_type": "code",
   "execution_count": 32,
   "metadata": {},
   "outputs": [
    {
     "name": "stdout",
     "output_type": "stream",
     "text": [
      "RMSE: 1.6327162136917048\n"
     ]
    }
   ],
   "source": [
    "train_predict_scaled = model.predict(X_train_scaled)\n",
    "\n",
    "# train_max, train_min = inverse_scale(train)\n",
    "train_predict = train_predict_scaled * train['SPY_std'] + train['SPY_mean']\n",
    "\n",
    "print(f'RMSE: {math.sqrt(mean_squared_error(y_train, train_predict))}')"
   ]
  },
  {
   "cell_type": "code",
   "execution_count": 33,
   "metadata": {},
   "outputs": [
    {
     "data": {
      "text/plain": [
       "Text(0.5, 1.0, 'Train Predictions')"
      ]
     },
     "execution_count": 33,
     "metadata": {},
     "output_type": "execute_result"
    },
    {
     "data": {
      "image/png": "[encoded data removed]",
      "text/plain": [
       "<Figure size 1280x480 with 1 Axes>"
      ]
     },
     "metadata": {},
     "output_type": "display_data"
    }
   ],
   "source": [
    "plt.figure(figsize=(16, 6), dpi=80, facecolor='w')\n",
    "\n",
    "train_predict_df = pd.DataFrame({'predict': train_predict}, index=y_train.index)\n",
    "\n",
    "ax = y_train.plot(style='b', grid=True)\n",
    "ax = train_predict_df.plot(style='r', grid=True, ax=ax)\n",
    "\n",
    "ax.legend(['train', 'prediction'])\n",
    "ax.set_xlabel('date')\n",
    "ax.set_ylabel('price')\n",
    "ax.set_title('Train Predictions')"
   ]
  },
  {
   "cell_type": "markdown",
   "metadata": {},
   "source": [
    "<h5>Predicting Validation Set</h5>"
   ]
  },
  {
   "cell_type": "code",
   "execution_count": null,
   "metadata": {},
   "outputs": [],
   "source": []
  },
  {
   "cell_type": "code",
   "execution_count": null,
   "metadata": {},
   "outputs": [],
   "source": [
    "#pseudocode\n",
    "\n",
    "# results of each model of each day\n",
    "results = {}\n",
    "\n",
    "for i in days(1,15):\n",
    "    for name, model in models.items():\n",
    "        prediction = model.predict(X_valid_scaled)\n",
    "        prediction = valid_predict_scaled * valid['SPY_std_ith_day'] + valid['SPY_mean_ith_day']\n",
    "        \n",
    "        results[name][i] = prediction\n",
    "\n",
    "\n",
    "# plotting results\n",
    "for name in models.keys():\n",
    "    rmse_list_per_day = []\n",
    "    for i in days(1,15):\n",
    "        rmse_score = math.sqrt(y_valid[ith_day], results[name][i])\n",
    "        rmse_list_per_day.append(rmse_score)\n",
    "        \n",
    "    plt.plot(rmse_list_per_day)"
   ]
  },
  {
   "cell_type": "code",
   "execution_count": null,
   "metadata": {},
   "outputs": [],
   "source": []
  },
  {
   "cell_type": "code",
   "execution_count": 34,
   "metadata": {},
   "outputs": [
    {
     "name": "stdout",
     "output_type": "stream",
     "text": [
      "RMSE: 1.936996638660791\n"
     ]
    }
   ],
   "source": [
    "valid_predict_scaled = model.predict(X_valid_scaled)\n",
    "valid_predict = valid_predict_scaled * valid['SPY_std'] + valid['SPY_mean']\n",
    "original_rmse = math.sqrt(mean_squared_error(y_valid, valid_predict))\n",
    "\n",
    "print(f'RMSE: {original_rmse}')"
   ]
  },
  {
   "cell_type": "markdown",
   "metadata": {},
   "source": [
    "Not scaling the targets made it so the predictions were within the ranges of the training set. After scaling predictions"
   ]
  },
  {
   "cell_type": "code",
   "execution_count": 35,
   "metadata": {},
   "outputs": [
    {
     "data": {
      "text/plain": [
       "Text(0.5, 1.0, 'Valid Predictions')"
      ]
     },
     "execution_count": 35,
     "metadata": {},
     "output_type": "execute_result"
    },
    {
     "data": {
      "image/png": "[encoded data removed]",
      "text/plain": [
       "<Figure size 1280x480 with 1 Axes>"
      ]
     },
     "metadata": {},
     "output_type": "display_data"
    }
   ],
   "source": [
    "plt.figure(figsize=(16, 6), dpi=80, facecolor='w')\n",
    "\n",
    "valid_predict_df = pd.DataFrame({'predict': valid_predict}, index=y_valid.index)\n",
    "\n",
    "ax = y_valid.plot(style='b', grid=True)\n",
    "ax = valid_predict_df.plot(style='r', grid=True, ax=ax)\n",
    "\n",
    "ax.legend(['valid', 'prediction'])\n",
    "ax.set_xlabel('date')\n",
    "ax.set_ylabel('price')\n",
    "ax.set_title('Valid Predictions')"
   ]
  },
  {
   "cell_type": "markdown",
   "metadata": {},
   "source": [
    "<h5>Optimal Models</h5>"
   ]
  },
  {
   "cell_type": "code",
   "execution_count": null,
   "metadata": {},
   "outputs": [],
   "source": []
  },
  {
   "cell_type": "code",
   "execution_count": null,
   "metadata": {},
   "outputs": [],
   "source": [
    "# pseudocode\n",
    "\n",
    "optimal_models = lowest RMSE of each ith_day\n",
    "\n",
    "optimal_models_df = {'ith_day': list(range(1,16)),\n",
    "                     'models': optimal_models}\n",
    "\n",
    "optimal_models_df = pd.DataFrame(optimal_models_df)\n",
    "optimal_models_df"
   ]
  },
  {
   "cell_type": "code",
   "execution_count": null,
   "metadata": {},
   "outputs": [],
   "source": []
  },
  {
   "cell_type": "code",
   "execution_count": null,
   "metadata": {},
   "outputs": [],
   "source": []
  },
  {
   "cell_type": "code",
   "execution_count": null,
   "metadata": {},
   "outputs": [],
   "source": [
    "# final model\n",
    "\n",
    "results = []\n",
    "for i in days(1, 15):\n",
    "    model = optimal_model()\n",
    "    model.fit(X_train_valid_scaled, y_train_valid_scaled[ith day])\n",
    "    \n",
    "    # prediction should return only 1 result\n",
    "    prediction = model.predict(X_test)\n",
    "    results.append(prediction)\n",
    "    \n",
    "# results (aka train_predict) should have 15 elements\n",
    "results = [results * std[i] + mean[i] for i in days]\n",
    "math.sqrt(mean_squared_error(y_test, results))\n",
    "\n",
    "# plotting\n",
    "plt.plot(results, y_test)"
   ]
  },
  {
   "cell_type": "code",
   "execution_count": null,
   "metadata": {},
   "outputs": [],
   "source": []
  },
  {
   "cell_type": "code",
   "execution_count": 54,
   "metadata": {},
   "outputs": [
    {
     "name": "stdout",
     "output_type": "stream",
     "text": [
      "RMSE on test set = 3.878\n"
     ]
    }
   ],
   "source": [
    "final_rmse, final_predict = train_xgb_model(X_train = X_train_valid_scaled,\n",
    "                                            y_train = y_train_valid_scaled,\n",
    "                                            X_test = X_test_scaled,\n",
    "                                            y_test = y_test,\n",
    "                                            mean = test['SPY_mean'],\n",
    "                                            std = test['SPY_std'],\n",
    "                                            n_estimators = new_n_estimators,\n",
    "                                            max_depth = new_max_depth,\n",
    "                                            learning_rate = new_learning_rate,\n",
    "                                            gamma = new_gamma,\n",
    "                                            min_child_weight = new_min_child_weight,\n",
    "                                            subsample = new_subsample,\n",
    "                                            colsample_bytree = new_colsample_bytree,\n",
    "                                            reg_alpha = new_reg_alpha,\n",
    "                                            random_state = 0)\n",
    "\n",
    "print(\"RMSE on test set = %0.3f\" % final_rmse)\n",
    "#RMSE on test set = 3.878"
   ]
  },
  {
   "cell_type": "code",
   "execution_count": 55,
   "metadata": {},
   "outputs": [
    {
     "data": {
      "text/plain": [
       "Text(0.5, 1.0, 'Test Predictions')"
      ]
     },
     "execution_count": 55,
     "metadata": {},
     "output_type": "execute_result"
    },
    {
     "data": {
      "image/png": "[encoded data removed]",
      "text/plain": [
       "<Figure size 1280x480 with 1 Axes>"
      ]
     },
     "metadata": {},
     "output_type": "display_data"
    }
   ],
   "source": [
    "plt.figure(figsize=(16, 6), dpi=80, facecolor='w')\n",
    "\n",
    "test_predict_df = pd.DataFrame({'predict': final_predict}, index=y_test.index)\n",
    "\n",
    "ax = y_test.plot(style='b', grid=True)\n",
    "ax = test_predict_df.plot(style='r', grid=True, ax=ax)\n",
    "\n",
    "ax.legend(['test', 'prediction'])\n",
    "ax.set_xlabel('date')\n",
    "ax.set_ylabel('price')\n",
    "ax.set_title('Test Predictions')"
   ]
  },
  {
   "cell_type": "markdown",
   "metadata": {},
   "source": [
    "The results for the final test sets were disappointing, with an RSME of 4.56 compared to the 1.74 of the validation set. Looking at the chart above we can see that there is a slight lag in predictions, especially in turns in direction of the market.\n",
    "\n",
    "I am curious to see what happens if I exclude data after January 31st which was when the 2020 Covid crash started."
   ]
  },
  {
   "cell_type": "code",
   "execution_count": 56,
   "metadata": {},
   "outputs": [
    {
     "name": "stdout",
     "output_type": "stream",
     "text": [
      "RMSE on test set = 2.814\n"
     ]
    }
   ],
   "source": [
    "X_test_temp = X_test.loc[:'2020-02-01']\n",
    "y_test_temp = y_test.loc[:'2020-02-01']\n",
    "\n",
    "temp_rmse, temp_predict = train_xgb_model(X_train = X_train_valid_scaled,\n",
    "                                            y_train = y_train_valid_scaled,\n",
    "                                            X_test = X_test_temp,\n",
    "                                            y_test = y_test_temp,\n",
    "                                            mean = test.loc[:'2020-02-01']['SPY_mean'],\n",
    "                                            std = test.loc[:'2020-02-01']['SPY_std'],\n",
    "                                            n_estimators = new_n_estimators,\n",
    "                                            max_depth = new_max_depth,\n",
    "                                            learning_rate = new_learning_rate,\n",
    "                                            gamma = new_gamma,\n",
    "                                            min_child_weight = new_min_child_weight,\n",
    "                                            subsample = new_subsample,\n",
    "                                            colsample_bytree = new_colsample_bytree,\n",
    "                                            reg_alpha = new_reg_alpha,\n",
    "                                            random_state = 0)\n",
    "\n",
    "print(\"RMSE on test set = %0.3f\" % temp_rmse)"
   ]
  },
  {
   "cell_type": "code",
   "execution_count": 57,
   "metadata": {},
   "outputs": [
    {
     "data": {
      "text/plain": [
       "Text(0.5, 1.0, 'Test Predictions')"
      ]
     },
     "execution_count": 57,
     "metadata": {},
     "output_type": "execute_result"
    },
    {
     "data": {
      "image/png": "[encoded data removed]",
      "text/plain": [
       "<Figure size 1280x480 with 1 Axes>"
      ]
     },
     "metadata": {},
     "output_type": "display_data"
    }
   ],
   "source": [
    "plt.figure(figsize=(16, 6), dpi=80, facecolor='w')\n",
    "\n",
    "temp_predict_df = pd.DataFrame({'predict': temp_predict}, index=y_test.loc[:'2020-02-01'].index)\n",
    "\n",
    "ax = y_test.loc[:'2020-02-01'].plot(style='b', grid=True)\n",
    "ax = temp_predict_df.plot(style='r', grid=True, ax=ax)\n",
    "\n",
    "ax.legend(['test', 'prediction'])\n",
    "ax.set_xlabel('date')\n",
    "ax.set_ylabel('price')\n",
    "ax.set_title('Test Predictions')"
   ]
  },
  {
   "cell_type": "markdown",
   "metadata": {},
   "source": [
    "For this iteration I switched from obtaining the data from local CSV files to a SQL database after being able to upload all historical data into a personal SQL server. The next step for the data sources is to write and schedule scripts that will web scrape data and upload to the server weekly/monthly.\n",
    "\n",
    "In this analysis I revised a few features, particularily removing the DIX and GEX index. This contributed to an improvement in RMSE score as now the model has an extra ~10 years worth of data to work with. I was able to get the RMSE score from 4.562 to 4.169 for all data and from 4.012 to 3.434 for pre February 2020 data.\n",
    "\n",
    "I also added the reg_alpha parameter which was crucial in improving RMSE score from 4.562 to 3.878 for all data and 4.012 to 2.814 for before February 2020 prices. The previous model was definitely overfitting.\n",
    "\n",
    "\n",
    "The next steps to improving this model:\n",
    "- predict the next 15/30 days (remember to account for weekends)\n",
    "- break out each financial feature groups and filter out the low performing ones\n",
    "- feature engineering (add industry ticker data and volume, % change, etc.)\n",
    "- explore other scaling methods\n",
    "\n",
    "To do list:\n",
    "- write scripts that will continuously upload new data into server\n",
    "- explore adding options data if possible\n",
    "- find a way to predict trend data (trend line for week/month out)\n",
    "- try other prediction models\n",
    "- try DNN models (tensorflow) "
   ]
  },
  {
   "cell_type": "code",
   "execution_count": 58,
   "metadata": {},
   "outputs": [
    {
     "name": "stdout",
     "output_type": "stream",
     "text": [
      "4.602297025923077\n"
     ]
    },
    {
     "data": {
      "text/plain": [
       "<matplotlib.axes._subplots.AxesSubplot at 0x12eb853d0>"
      ]
     },
     "execution_count": 58,
     "metadata": {},
     "output_type": "execute_result"
    },
    {
     "data": {
      "image/png": "[encoded data removed]",
      "text/plain": [
       "<Figure size 864x432 with 1 Axes>"
      ]
     },
     "metadata": {
      "needs_background": "light"
     },
     "output_type": "display_data"
    }
   ],
   "source": [
    "import xgboost as xgb\n",
    "\n",
    "xgb_clf = XGBRegressor(n_estimators=new_n_estimators,\n",
    "                       max_depth=new_max_depth,\n",
    "                       learning_rate=new_learning_rate,\n",
    "                       gamma=new_gamma,\n",
    "                       min_child_weight=new_min_child_weight,\n",
    "                       subsample=new_subsample,\n",
    "                       colsample_bytree=new_colsample_bytree,\n",
    "                       reg_alpha = new_reg_alpha,\n",
    "                       random_state=0)\n",
    "\n",
    "xgb_clf.fit(X_train_valid_scaled, y_train_valid_scaled)\n",
    "prediction_scaled = xgb_clf.predict(X_test)\n",
    "\n",
    "train_predict = prediction_scaled * test['SPY_std'] + test['SPY_mean']\n",
    "\n",
    "print(math.sqrt(mean_squared_error(y_test, train_predict)))\n",
    "\n",
    "xgb.plot_importance(xgb_clf)"
   ]
  },
  {
   "cell_type": "code",
   "execution_count": null,
   "metadata": {},
   "outputs": [],
   "source": []
  },
  {
   "cell_type": "code",
   "execution_count": null,
   "metadata": {},
   "outputs": [],
   "source": []
  }
 ],
 "metadata": {
  "kernelspec": {
   "display_name": "venv_spy",
   "language": "python",
   "name": "venv_spy"
  },
  "language_info": {
   "codemirror_mode": {
    "name": "ipython",
    "version": 3
   },
   "file_extension": ".py",
   "mimetype": "text/x-python",
   "name": "python",
   "nbconvert_exporter": "python",
   "pygments_lexer": "ipython3",
   "version": "3.7.7"
  }
 },
 "nbformat": 4,
 "nbformat_minor": 4
}
